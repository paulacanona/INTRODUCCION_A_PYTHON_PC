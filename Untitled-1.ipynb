{
 "cells": [
  {
   "cell_type": "markdown",
   "metadata": {},
   "source": [
    "#INTRODUCCIÓN A PYTHON"
   ]
  },
  {
   "cell_type": "code",
   "execution_count": 11,
   "metadata": {},
   "outputs": [
    {
     "name": "stdout",
     "output_type": "stream",
     "text": [
      "hola mundo\n"
     ]
    }
   ],
   "source": [
    "print('hola mundo')"
   ]
  },
  {
   "cell_type": "markdown",
   "metadata": {},
   "source": [
    "OPERACIONES BASICAS ARITMÉTICAS "
   ]
  },
  {
   "cell_type": "code",
   "execution_count": 9,
   "metadata": {},
   "outputs": [
    {
     "name": "stdout",
     "output_type": "stream",
     "text": [
      "El valor de \"a\" es de: 14.0\n",
      "El valor de \"b\" es de: 8.0\n",
      "El valor de \"c\" es de: 260.0\n",
      "El año tiene 31536000 segundos\n"
     ]
    }
   ],
   "source": [
    "a=5*(2.5+3.1)/2\n",
    "print('El valor de \"a\" es de:',a)\n",
    "b=(2**3+4**2)/3 #POTENCIA\n",
    "print('El valor de \"b\" es de:',b)\n",
    "c=a**2+b**2\n",
    "print('El valor de \"c\" es de:',c)\n",
    "s=365*24*3600\n",
    "print('El año tiene',s, 'segundos')\n"
   ]
  },
  {
   "cell_type": "markdown",
   "metadata": {},
   "source": [
    "GUARDAR TEXTO EN VARIABLES Y UNIRLOS"
   ]
  },
  {
   "cell_type": "code",
   "execution_count": 11,
   "metadata": {},
   "outputs": [
    {
     "name": "stdout",
     "output_type": "stream",
     "text": [
      "Mi casa azul\n"
     ]
    }
   ],
   "source": [
    "x=\" casa\"\n",
    "y=\"azul\"\n",
    "z=\" \"\n",
    "a=x+z+y\n",
    "print('Mi'+a)"
   ]
  },
  {
   "cell_type": "markdown",
   "metadata": {},
   "source": [
    "INGRESO DE VALORES POR TECLADO"
   ]
  },
  {
   "cell_type": "code",
   "execution_count": 12,
   "metadata": {},
   "outputs": [
    {
     "name": "stdout",
     "output_type": "stream",
     "text": [
      "<class 'float'>\n",
      "44.773294277950995\n"
     ]
    }
   ],
   "source": [
    "x=float(input('Ingrese valor'))\n",
    "g=3.9\n",
    "z=((x**2)+(g**3))/(x)**(1/2)\n",
    "print(type(g))\n",
    "print(z)"
   ]
  },
  {
   "cell_type": "markdown",
   "metadata": {},
   "source": [
    "LISTAS - VECTORES"
   ]
  },
  {
   "cell_type": "code",
   "execution_count": 13,
   "metadata": {},
   "outputs": [
    {
     "name": "stdout",
     "output_type": "stream",
     "text": [
      "['a', 'b', 'c', 'd']\n",
      "['a', 'b', 'c']\n",
      "['a', 'b']\n",
      "['b']\n",
      "['b', 'h']\n"
     ]
    }
   ],
   "source": [
    "x=['a','b','c','d']\n",
    "print(x)\n",
    "x.pop(3)\n",
    "print(x)\n",
    "x.pop(-1)\n",
    "print(x)\n",
    "x.remove('a')\n",
    "print(x)\n",
    "x.append('h')\n",
    "print(x)"
   ]
  },
  {
   "cell_type": "markdown",
   "metadata": {},
   "source": [
    "ESTRUCTURAS DE CONTROL"
   ]
  },
  {
   "cell_type": "code",
   "execution_count": 15,
   "metadata": {},
   "outputs": [
    {
     "name": "stdout",
     "output_type": "stream",
     "text": [
      "0\n",
      "1\n",
      "2\n",
      "Este es el paso número 4\n",
      "Este es el paso número 5\n",
      "Este es el paso número 6\n",
      "Este es el paso número 7\n",
      "Quiero comer manzana\n",
      "Quiero comer mango\n",
      "Quiero comer piña\n",
      "t\n",
      "a\n",
      "m\n",
      "a\n",
      "r\n",
      "i\n",
      "n\n",
      "d\n",
      "o\n"
     ]
    }
   ],
   "source": [
    "for x in range(0,3): \n",
    "    print(x)\n",
    "for x in range(4,8):\n",
    "    print('Este es el paso número',x)\n",
    "Frutas=['manzana','mango','piña']\n",
    "for x in Frutas:\n",
    "    print('Quiero comer',x)\n",
    "for x in 'tamarindo':\n",
    "    print(x)"
   ]
  },
  {
   "cell_type": "markdown",
   "metadata": {},
   "source": [
    "CONDICIONAL IF"
   ]
  },
  {
   "cell_type": "code",
   "execution_count": 19,
   "metadata": {},
   "outputs": [
    {
     "name": "stdout",
     "output_type": "stream",
     "text": [
      "La variable b es menor que a\n"
     ]
    }
   ],
   "source": [
    "a=100\n",
    "b=42\n",
    "if b<a:\n",
    "    print('La variable b es menor que a')\n",
    "else:\n",
    "    print('La variable b es mayor que a')"
   ]
  },
  {
   "cell_type": "code",
   "execution_count": 20,
   "metadata": {},
   "outputs": [
    {
     "name": "stdout",
     "output_type": "stream",
     "text": [
      "Las variables son diferentes\n"
     ]
    }
   ],
   "source": [
    "x='mama'\n",
    "y='mamá'\n",
    "if x==y:\n",
    "    print('Las variables son iguales')\n",
    "else:\n",
    "    print('Las variables son diferentes')\n"
   ]
  },
  {
   "cell_type": "code",
   "execution_count": 21,
   "metadata": {},
   "outputs": [
    {
     "name": "stdout",
     "output_type": "stream",
     "text": [
      "La variable b es igual que a\n"
     ]
    }
   ],
   "source": [
    "a=100\n",
    "b=100\n",
    "if b<a:\n",
    "    print('La variable b es menor que a')\n",
    "elif b==a:\n",
    "    print('La variable b es igual que a')\n",
    "else:\n",
    "    print('La variable b es mayor que a')"
   ]
  },
  {
   "cell_type": "markdown",
   "metadata": {},
   "source": [
    "CONDICIONAL WHILE"
   ]
  },
  {
   "cell_type": "code",
   "execution_count": 24,
   "metadata": {},
   "outputs": [
    {
     "name": "stdout",
     "output_type": "stream",
     "text": [
      "1\n",
      "2\n",
      "3\n",
      "4\n",
      "5\n"
     ]
    }
   ],
   "source": [
    "i=1\n",
    "while i<6:\n",
    "    print(i)\n",
    "    i+=1 #i+=-1"
   ]
  },
  {
   "cell_type": "markdown",
   "metadata": {},
   "source": [
    "COMBINACIÓN DE ESTRUCTURAS DE CONTROL"
   ]
  },
  {
   "cell_type": "code",
   "execution_count": 21,
   "metadata": {},
   "outputs": [
    {
     "name": "stdout",
     "output_type": "stream",
     "text": [
      "1\n",
      "2\n",
      "3\n"
     ]
    }
   ],
   "source": [
    "i=1\n",
    "while i<6:\n",
    "    print(i)\n",
    "    if i==3:\n",
    "     break\n",
    "    i+=1\n"
   ]
  },
  {
   "cell_type": "code",
   "execution_count": 23,
   "metadata": {},
   "outputs": [
    {
     "name": "stdout",
     "output_type": "stream",
     "text": [
      "2\n",
      "4\n",
      "5\n",
      "6\n"
     ]
    }
   ],
   "source": [
    "i=1\n",
    "while i<6:\n",
    "    i+=1\n",
    "    if i==3:\n",
    "     continue\n",
    "    print(i)\n",
    "    "
   ]
  },
  {
   "cell_type": "code",
   "execution_count": 16,
   "metadata": {},
   "outputs": [
    {
     "name": "stdout",
     "output_type": "stream",
     "text": [
      "1\n",
      "2\n",
      "3\n",
      "Llegue al 3\n",
      "4\n",
      "5\n",
      "1\n",
      "2\n",
      "3\n",
      "4\n",
      "5\n",
      "i ya no es menor que 6\n"
     ]
    }
   ],
   "source": [
    "i=1\n",
    "while i<6:\n",
    "    print(i)\n",
    "    if i==3:\n",
    "        print('Llegue al 3')\n",
    "    i=i+1\n",
    "i=1\n",
    "while i<6:\n",
    "    print(i)\n",
    "    i+=1\n",
    "else:\n",
    "    print('i ya no es menor que 6')\n"
   ]
  },
  {
   "cell_type": "code",
   "execution_count": 25,
   "metadata": {},
   "outputs": [
    {
     "name": "stdout",
     "output_type": "stream",
     "text": [
      "5\n",
      "8\n",
      "11\n",
      "14\n",
      "17\n",
      "20\n",
      "23\n",
      "26\n",
      "29\n"
     ]
    }
   ],
   "source": [
    "for x in range(5,30,3):\n",
    "    print(x)"
   ]
  },
  {
   "cell_type": "code",
   "execution_count": 26,
   "metadata": {},
   "outputs": [
    {
     "name": "stdout",
     "output_type": "stream",
     "text": [
      "0\n",
      "1\n",
      "2\n",
      "3\n",
      "4\n",
      "5\n",
      "Terminó\n"
     ]
    }
   ],
   "source": [
    "for x in range(6):\n",
    "    print(x)\n",
    "else:\n",
    "    print('Terminó')"
   ]
  },
  {
   "cell_type": "code",
   "execution_count": 27,
   "metadata": {},
   "outputs": [
    {
     "name": "stdout",
     "output_type": "stream",
     "text": [
      "67 es mayor que 45\n"
     ]
    }
   ],
   "source": [
    "x=int(input('Ingrese un número\\n'))\n",
    "y=int(input('Ingrese un número\\n'))\n",
    "if x>y:\n",
    "    print(x,'es mayor que',y)\n",
    "else:\n",
    "    print(y,'es mayor que',x)"
   ]
  },
  {
   "cell_type": "code",
   "execution_count": 28,
   "metadata": {},
   "outputs": [
    {
     "name": "stdout",
     "output_type": "stream",
     "text": [
      "5\n",
      "6\n",
      "7\n",
      "8\n",
      "9\n"
     ]
    }
   ],
   "source": [
    "for x in range(20):\n",
    "    if(x>4 and x<10):\n",
    "        print(x)"
   ]
  },
  {
   "cell_type": "markdown",
   "metadata": {},
   "source": [
    "NUMPY"
   ]
  },
  {
   "cell_type": "code",
   "execution_count": 15,
   "metadata": {},
   "outputs": [
    {
     "name": "stdout",
     "output_type": "stream",
     "text": [
      "[0.90151292 0.30008952 0.53132913 0.52452783 0.2878927  0.22151687\n",
      " 0.77641684 0.29391918 0.48980753 0.23683206 0.50181717 0.54163318\n",
      " 0.21535968 0.72877786 0.67312426 0.75262272 0.24136089 0.50828401\n",
      " 0.83383878 0.33805592 0.99188099 0.57017918 0.28177752 0.75291592\n",
      " 0.90491295 0.95883405 0.83327182 0.12872256 0.71473634 0.31786685\n",
      " 0.85249248 0.2918147  0.4271687  0.42767033 0.27928527 0.77173787\n",
      " 0.97520674 0.16249606 0.14713793 0.29425467 0.34576413 0.7028209\n",
      " 0.25427867 0.01347648 0.36202925 0.3109931  0.3062308  0.4695625\n",
      " 0.00800609 0.40059234]\n"
     ]
    }
   ],
   "source": [
    "import numpy as np\n",
    "x=np.random.rand(50)\n",
    "print(x)"
   ]
  },
  {
   "cell_type": "code",
   "execution_count": 16,
   "metadata": {},
   "outputs": [
    {
     "name": "stdout",
     "output_type": "stream",
     "text": [
      "[-0.78675043 -0.3618074   0.53018931 ...  0.47244166 -0.11933883\n",
      " -0.93865637]\n"
     ]
    }
   ],
   "source": [
    "x=np.random.randn(2000)\n",
    "print(x)"
   ]
  }
 ],
 "metadata": {
  "kernelspec": {
   "display_name": "Python 3",
   "language": "python",
   "name": "python3"
  },
  "language_info": {
   "codemirror_mode": {
    "name": "ipython",
    "version": 3
   },
   "file_extension": ".py",
   "mimetype": "text/x-python",
   "name": "python",
   "nbconvert_exporter": "python",
   "pygments_lexer": "ipython3",
   "version": "3.12.5"
  }
 },
 "nbformat": 4,
 "nbformat_minor": 2
}
